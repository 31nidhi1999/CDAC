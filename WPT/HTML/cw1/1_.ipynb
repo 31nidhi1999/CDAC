{
 "cells": [
  {
   "cell_type": "markdown",
   "metadata": {},
   "source": [
    "Front end :: UI(HTML,CSS,JS,Bootstrap,Jquery,React)\n",
    "Backend :: Database connectivity + processing"
   ]
  },
  {
   "cell_type": "markdown",
   "metadata": {},
   "source": [
    "server :: is a machine similar to pc or laptop\n",
    "\t\t  server has RAM,CPU,Storage units\n",
    "\t\t  \n",
    "Client :: device/browser on which we are opening the website"
   ]
  },
  {
   "cell_type": "markdown",
   "metadata": {},
   "source": []
  }
 ],
 "metadata": {
  "language_info": {
   "name": "python"
  }
 },
 "nbformat": 4,
 "nbformat_minor": 2
}
